{
  "cells": [
    {
      "cell_type": "markdown",
      "metadata": {
        "id": "view-in-github",
        "colab_type": "text"
      },
      "source": [
        "<a href=\"https://colab.research.google.com/github/shreyadwivedi14/shreyadwivedi14/blob/main/CSCI_544_HW3_Colab.ipynb\" target=\"_parent\"><img src=\"https://colab.research.google.com/assets/colab-badge.svg\" alt=\"Open In Colab\"/></a>"
      ]
    },
    {
      "cell_type": "code",
      "source": [
        "# Shreya Dwivedi\n",
        "# 5148430435\n",
        "# HW3"
      ],
      "metadata": {
        "id": "NPMHTEL0HXcA"
      },
      "execution_count": 103,
      "outputs": []
    },
    {
      "cell_type": "code",
      "execution_count": 4,
      "metadata": {
        "colab": {
          "base_uri": "https://localhost:8080/"
        },
        "id": "3ZsyrJy1n2E7",
        "outputId": "eb3e07ea-062b-408d-f7cc-9cc44ebd3c73"
      },
      "outputs": [
        {
          "output_type": "stream",
          "name": "stdout",
          "text": [
            "Drive already mounted at /content/drive; to attempt to forcibly remount, call drive.mount(\"/content/drive\", force_remount=True).\n"
          ]
        }
      ],
      "source": [
        "from google.colab import drive\n",
        "drive.mount(\"/content/drive\")"
      ]
    },
    {
      "cell_type": "code",
      "execution_count": 5,
      "metadata": {
        "colab": {
          "base_uri": "https://localhost:8080/"
        },
        "id": "R2fDmixjtF8A",
        "outputId": "6875b656-0b41-499b-dc79-efc44f2452de"
      },
      "outputs": [
        {
          "output_type": "stream",
          "name": "stdout",
          "text": [
            "Collecting contractions\n",
            "  Downloading contractions-0.1.73-py2.py3-none-any.whl (8.7 kB)\n",
            "Collecting textsearch>=0.0.21 (from contractions)\n",
            "  Downloading textsearch-0.0.24-py2.py3-none-any.whl (7.6 kB)\n",
            "Collecting anyascii (from textsearch>=0.0.21->contractions)\n",
            "  Downloading anyascii-0.3.2-py3-none-any.whl (289 kB)\n",
            "\u001b[2K     \u001b[90m━━━━━━━━━━━━━━━━━━━━━━━━━━━━━━━━━━━━━━━\u001b[0m \u001b[32m289.9/289.9 kB\u001b[0m \u001b[31m5.6 MB/s\u001b[0m eta \u001b[36m0:00:00\u001b[0m\n",
            "\u001b[?25hCollecting pyahocorasick (from textsearch>=0.0.21->contractions)\n",
            "  Downloading pyahocorasick-2.0.0-cp310-cp310-manylinux_2_5_x86_64.manylinux1_x86_64.manylinux_2_12_x86_64.manylinux2010_x86_64.whl (110 kB)\n",
            "\u001b[2K     \u001b[90m━━━━━━━━━━━━━━━━━━━━━━━━━━━━━━━━━━━━━━\u001b[0m \u001b[32m110.8/110.8 kB\u001b[0m \u001b[31m13.6 MB/s\u001b[0m eta \u001b[36m0:00:00\u001b[0m\n",
            "\u001b[?25hInstalling collected packages: pyahocorasick, anyascii, textsearch, contractions\n",
            "Successfully installed anyascii-0.3.2 contractions-0.1.73 pyahocorasick-2.0.0 textsearch-0.0.24\n",
            "Requirement already satisfied: gensim in /usr/local/lib/python3.10/dist-packages (4.3.2)\n",
            "Requirement already satisfied: numpy>=1.18.5 in /usr/local/lib/python3.10/dist-packages (from gensim) (1.23.5)\n",
            "Requirement already satisfied: scipy>=1.7.0 in /usr/local/lib/python3.10/dist-packages (from gensim) (1.11.3)\n",
            "Requirement already satisfied: smart-open>=1.8.1 in /usr/local/lib/python3.10/dist-packages (from gensim) (6.4.0)\n"
          ]
        }
      ],
      "source": [
        "!pip install contractions\n",
        "!pip install gensim"
      ]
    },
    {
      "cell_type": "code",
      "execution_count": 6,
      "metadata": {
        "id": "5vFzBP74qNqa"
      },
      "outputs": [],
      "source": [
        "import pandas as pd\n",
        "import numpy as np\n",
        "from bs4 import BeautifulSoup\n",
        "import warnings\n",
        "warnings.filterwarnings('ignore')\n",
        "from sklearn.model_selection import train_test_split\n",
        "from sklearn.metrics import precision_score, recall_score, f1_score\n",
        "import contractions\n",
        "import gensim\n",
        "import gensim.downloader as api\n",
        "from gensim.test.utils import datapath\n",
        "from gensim import utils\n",
        "from sklearn.metrics.pairwise import cosine_similarity\n",
        "from sklearn.feature_extraction.text import TfidfVectorizer, CountVectorizer"
      ]
    },
    {
      "cell_type": "code",
      "execution_count": 7,
      "metadata": {
        "colab": {
          "base_uri": "https://localhost:8080/"
        },
        "id": "lzQUIT3RtB_D",
        "outputId": "3076b852-17f5-4753-dd56-2694fd549cec"
      },
      "outputs": [
        {
          "output_type": "stream",
          "name": "stderr",
          "text": [
            "Skipping line 20773: expected 15 fields, saw 22\n",
            "Skipping line 39834: expected 15 fields, saw 22\n",
            "Skipping line 52957: expected 15 fields, saw 22\n",
            "Skipping line 54540: expected 15 fields, saw 22\n",
            "\n",
            "Skipping line 80276: expected 15 fields, saw 22\n",
            "Skipping line 96168: expected 15 fields, saw 22\n",
            "Skipping line 96866: expected 15 fields, saw 22\n",
            "Skipping line 98175: expected 15 fields, saw 22\n",
            "Skipping line 112539: expected 15 fields, saw 22\n",
            "Skipping line 119377: expected 15 fields, saw 22\n",
            "Skipping line 120065: expected 15 fields, saw 22\n",
            "Skipping line 124703: expected 15 fields, saw 22\n",
            "\n",
            "Skipping line 134024: expected 15 fields, saw 22\n",
            "Skipping line 153938: expected 15 fields, saw 22\n",
            "Skipping line 156225: expected 15 fields, saw 22\n",
            "Skipping line 168603: expected 15 fields, saw 22\n",
            "Skipping line 187002: expected 15 fields, saw 22\n",
            "\n",
            "Skipping line 200397: expected 15 fields, saw 22\n",
            "Skipping line 203809: expected 15 fields, saw 22\n",
            "Skipping line 207680: expected 15 fields, saw 22\n",
            "Skipping line 223421: expected 15 fields, saw 22\n",
            "Skipping line 244032: expected 15 fields, saw 22\n",
            "\n",
            "Skipping line 270329: expected 15 fields, saw 22\n",
            "Skipping line 276484: expected 15 fields, saw 22\n",
            "Skipping line 304755: expected 15 fields, saw 22\n",
            "\n",
            "Skipping line 379449: expected 15 fields, saw 22\n",
            "Skipping line 386191: expected 15 fields, saw 22\n",
            "Skipping line 391811: expected 15 fields, saw 22\n",
            "\n",
            "Skipping line 414348: expected 15 fields, saw 22\n",
            "Skipping line 414773: expected 15 fields, saw 22\n",
            "Skipping line 417572: expected 15 fields, saw 22\n",
            "Skipping line 419496: expected 15 fields, saw 22\n",
            "Skipping line 430528: expected 15 fields, saw 22\n",
            "Skipping line 442230: expected 15 fields, saw 22\n",
            "Skipping line 450931: expected 15 fields, saw 22\n",
            "\n",
            "Skipping line 465377: expected 15 fields, saw 22\n",
            "Skipping line 467685: expected 15 fields, saw 22\n",
            "Skipping line 485055: expected 15 fields, saw 22\n",
            "Skipping line 487220: expected 15 fields, saw 22\n",
            "Skipping line 496076: expected 15 fields, saw 22\n",
            "Skipping line 512269: expected 15 fields, saw 22\n",
            "\n",
            "Skipping line 529505: expected 15 fields, saw 22\n",
            "Skipping line 531286: expected 15 fields, saw 22\n",
            "Skipping line 535424: expected 15 fields, saw 22\n",
            "Skipping line 569898: expected 15 fields, saw 22\n",
            "Skipping line 586293: expected 15 fields, saw 22\n",
            "\n",
            "Skipping line 593880: expected 15 fields, saw 22\n",
            "Skipping line 599274: expected 15 fields, saw 22\n",
            "Skipping line 607961: expected 15 fields, saw 22\n",
            "Skipping line 612413: expected 15 fields, saw 22\n",
            "Skipping line 615913: expected 15 fields, saw 22\n",
            "\n",
            "Skipping line 677580: expected 15 fields, saw 22\n",
            "Skipping line 687191: expected 15 fields, saw 22\n",
            "Skipping line 710819: expected 15 fields, saw 22\n",
            "\n",
            "Skipping line 728692: expected 15 fields, saw 22\n",
            "Skipping line 730216: expected 15 fields, saw 22\n",
            "Skipping line 758397: expected 15 fields, saw 22\n",
            "Skipping line 760061: expected 15 fields, saw 22\n",
            "Skipping line 768935: expected 15 fields, saw 22\n",
            "Skipping line 769483: expected 15 fields, saw 22\n",
            "\n",
            "Skipping line 822725: expected 15 fields, saw 22\n",
            "Skipping line 823621: expected 15 fields, saw 22\n",
            "\n",
            "Skipping line 857041: expected 15 fields, saw 22\n",
            "Skipping line 857320: expected 15 fields, saw 22\n",
            "Skipping line 858565: expected 15 fields, saw 22\n",
            "Skipping line 860629: expected 15 fields, saw 22\n",
            "Skipping line 864033: expected 15 fields, saw 22\n",
            "Skipping line 868673: expected 15 fields, saw 22\n",
            "Skipping line 869189: expected 15 fields, saw 22\n",
            "\n",
            "Skipping line 938605: expected 15 fields, saw 22\n",
            "Skipping line 940100: expected 15 fields, saw 22\n",
            "Skipping line 975137: expected 15 fields, saw 22\n",
            "Skipping line 976314: expected 15 fields, saw 22\n",
            "\n",
            "Skipping line 985597: expected 15 fields, saw 22\n",
            "Skipping line 990873: expected 15 fields, saw 22\n",
            "Skipping line 991806: expected 15 fields, saw 22\n",
            "Skipping line 1019808: expected 15 fields, saw 22\n",
            "Skipping line 1021526: expected 15 fields, saw 22\n",
            "Skipping line 1023905: expected 15 fields, saw 22\n",
            "Skipping line 1044207: expected 15 fields, saw 22\n",
            "\n",
            "Skipping line 1084683: expected 15 fields, saw 22\n",
            "Skipping line 1093288: expected 15 fields, saw 22\n",
            "\n",
            "Skipping line 1136430: expected 15 fields, saw 22\n",
            "Skipping line 1139815: expected 15 fields, saw 22\n",
            "\n",
            "Skipping line 1179821: expected 15 fields, saw 22\n",
            "Skipping line 1195351: expected 15 fields, saw 22\n",
            "Skipping line 1202007: expected 15 fields, saw 22\n",
            "Skipping line 1224868: expected 15 fields, saw 22\n",
            "Skipping line 1232490: expected 15 fields, saw 22\n",
            "Skipping line 1238697: expected 15 fields, saw 22\n",
            "\n",
            "Skipping line 1258654: expected 15 fields, saw 22\n",
            "Skipping line 1279948: expected 15 fields, saw 22\n",
            "Skipping line 1294360: expected 15 fields, saw 22\n",
            "Skipping line 1302240: expected 15 fields, saw 22\n",
            "\n",
            "Skipping line 1413654: expected 15 fields, saw 22\n",
            "\n",
            "Skipping line 1687095: expected 15 fields, saw 22\n",
            "\n",
            "Skipping line 1805966: expected 15 fields, saw 22\n",
            "\n",
            "Skipping line 1892134: expected 15 fields, saw 22\n",
            "\n"
          ]
        }
      ],
      "source": [
        "import pandas as pd\n",
        "\n",
        "file_path = \"/content/drive/My Drive/Colab Notebooks/CSCI_544/HW1/amazon_reviews_us_Office_Products_v1_00.tsv\"\n",
        "\n",
        "# Skip lines with parsing errors\n",
        "df = pd.read_csv(file_path, delimiter='\\t', error_bad_lines=False)"
      ]
    },
    {
      "cell_type": "code",
      "execution_count": 8,
      "metadata": {
        "id": "lkmiyXW6tz1M"
      },
      "outputs": [],
      "source": [
        " df = df[['star_rating','review_headline','review_body']]"
      ]
    },
    {
      "cell_type": "code",
      "execution_count": 9,
      "metadata": {
        "id": "F5LvROkhxCLE"
      },
      "outputs": [],
      "source": [
        "df['star_rating']=pd.to_numeric(df['star_rating'], errors='coerce')"
      ]
    },
    {
      "cell_type": "code",
      "execution_count": 10,
      "metadata": {
        "id": "ZsWEPWGUxGBW"
      },
      "outputs": [],
      "source": [
        "filtered_df = df[pd.notna(df['star_rating'])]"
      ]
    },
    {
      "cell_type": "markdown",
      "metadata": {
        "id": "lJp6ag-BxRIs"
      },
      "source": [
        "#### We form two classes and select 50000 reviews randomly from each class."
      ]
    },
    {
      "cell_type": "code",
      "execution_count": 11,
      "metadata": {
        "id": "NbLxxMpHxLHs"
      },
      "outputs": [],
      "source": [
        "# Creating class\n",
        "filtered_df['class'] = (filtered_df['star_rating'].astype(int)).apply(lambda x: 'class1' if x in [1, 2, 3] else 'class2')"
      ]
    },
    {
      "cell_type": "code",
      "execution_count": 12,
      "metadata": {
        "colab": {
          "base_uri": "https://localhost:8080/",
          "height": 204
        },
        "id": "i6N_zf15xXE5",
        "outputId": "6b6799d8-16a0-4e19-c315-4b23a52ae66b"
      },
      "outputs": [
        {
          "output_type": "execute_result",
          "data": {
            "text/plain": [
              "   star_rating                                    review_headline  \\\n",
              "0          5.0                                         Five Stars   \n",
              "1          5.0  Phffffffft, Phfffffft. Lots of air, and it's C...   \n",
              "2          5.0                      but I am sure I will like it.   \n",
              "3          1.0  and the shredder was dirty and the bin was par...   \n",
              "4          4.0                                         Four Stars   \n",
              "\n",
              "                                         review_body   class  \n",
              "0                                     Great product.  class2  \n",
              "1  What's to say about this commodity item except...  class2  \n",
              "2    Haven't used yet, but I am sure I will like it.  class2  \n",
              "3  Although this was labeled as &#34;new&#34; the...  class1  \n",
              "4                    Gorgeous colors and easy to use  class2  "
            ],
            "text/html": [
              "\n",
              "  <div id=\"df-8b48c957-7bd4-4409-9e12-b20c362abb48\" class=\"colab-df-container\">\n",
              "    <div>\n",
              "<style scoped>\n",
              "    .dataframe tbody tr th:only-of-type {\n",
              "        vertical-align: middle;\n",
              "    }\n",
              "\n",
              "    .dataframe tbody tr th {\n",
              "        vertical-align: top;\n",
              "    }\n",
              "\n",
              "    .dataframe thead th {\n",
              "        text-align: right;\n",
              "    }\n",
              "</style>\n",
              "<table border=\"1\" class=\"dataframe\">\n",
              "  <thead>\n",
              "    <tr style=\"text-align: right;\">\n",
              "      <th></th>\n",
              "      <th>star_rating</th>\n",
              "      <th>review_headline</th>\n",
              "      <th>review_body</th>\n",
              "      <th>class</th>\n",
              "    </tr>\n",
              "  </thead>\n",
              "  <tbody>\n",
              "    <tr>\n",
              "      <th>0</th>\n",
              "      <td>5.0</td>\n",
              "      <td>Five Stars</td>\n",
              "      <td>Great product.</td>\n",
              "      <td>class2</td>\n",
              "    </tr>\n",
              "    <tr>\n",
              "      <th>1</th>\n",
              "      <td>5.0</td>\n",
              "      <td>Phffffffft, Phfffffft. Lots of air, and it's C...</td>\n",
              "      <td>What's to say about this commodity item except...</td>\n",
              "      <td>class2</td>\n",
              "    </tr>\n",
              "    <tr>\n",
              "      <th>2</th>\n",
              "      <td>5.0</td>\n",
              "      <td>but I am sure I will like it.</td>\n",
              "      <td>Haven't used yet, but I am sure I will like it.</td>\n",
              "      <td>class2</td>\n",
              "    </tr>\n",
              "    <tr>\n",
              "      <th>3</th>\n",
              "      <td>1.0</td>\n",
              "      <td>and the shredder was dirty and the bin was par...</td>\n",
              "      <td>Although this was labeled as &amp;#34;new&amp;#34; the...</td>\n",
              "      <td>class1</td>\n",
              "    </tr>\n",
              "    <tr>\n",
              "      <th>4</th>\n",
              "      <td>4.0</td>\n",
              "      <td>Four Stars</td>\n",
              "      <td>Gorgeous colors and easy to use</td>\n",
              "      <td>class2</td>\n",
              "    </tr>\n",
              "  </tbody>\n",
              "</table>\n",
              "</div>\n",
              "    <div class=\"colab-df-buttons\">\n",
              "\n",
              "  <div class=\"colab-df-container\">\n",
              "    <button class=\"colab-df-convert\" onclick=\"convertToInteractive('df-8b48c957-7bd4-4409-9e12-b20c362abb48')\"\n",
              "            title=\"Convert this dataframe to an interactive table.\"\n",
              "            style=\"display:none;\">\n",
              "\n",
              "  <svg xmlns=\"http://www.w3.org/2000/svg\" height=\"24px\" viewBox=\"0 -960 960 960\">\n",
              "    <path d=\"M120-120v-720h720v720H120Zm60-500h600v-160H180v160Zm220 220h160v-160H400v160Zm0 220h160v-160H400v160ZM180-400h160v-160H180v160Zm440 0h160v-160H620v160ZM180-180h160v-160H180v160Zm440 0h160v-160H620v160Z\"/>\n",
              "  </svg>\n",
              "    </button>\n",
              "\n",
              "  <style>\n",
              "    .colab-df-container {\n",
              "      display:flex;\n",
              "      gap: 12px;\n",
              "    }\n",
              "\n",
              "    .colab-df-convert {\n",
              "      background-color: #E8F0FE;\n",
              "      border: none;\n",
              "      border-radius: 50%;\n",
              "      cursor: pointer;\n",
              "      display: none;\n",
              "      fill: #1967D2;\n",
              "      height: 32px;\n",
              "      padding: 0 0 0 0;\n",
              "      width: 32px;\n",
              "    }\n",
              "\n",
              "    .colab-df-convert:hover {\n",
              "      background-color: #E2EBFA;\n",
              "      box-shadow: 0px 1px 2px rgba(60, 64, 67, 0.3), 0px 1px 3px 1px rgba(60, 64, 67, 0.15);\n",
              "      fill: #174EA6;\n",
              "    }\n",
              "\n",
              "    .colab-df-buttons div {\n",
              "      margin-bottom: 4px;\n",
              "    }\n",
              "\n",
              "    [theme=dark] .colab-df-convert {\n",
              "      background-color: #3B4455;\n",
              "      fill: #D2E3FC;\n",
              "    }\n",
              "\n",
              "    [theme=dark] .colab-df-convert:hover {\n",
              "      background-color: #434B5C;\n",
              "      box-shadow: 0px 1px 3px 1px rgba(0, 0, 0, 0.15);\n",
              "      filter: drop-shadow(0px 1px 2px rgba(0, 0, 0, 0.3));\n",
              "      fill: #FFFFFF;\n",
              "    }\n",
              "  </style>\n",
              "\n",
              "    <script>\n",
              "      const buttonEl =\n",
              "        document.querySelector('#df-8b48c957-7bd4-4409-9e12-b20c362abb48 button.colab-df-convert');\n",
              "      buttonEl.style.display =\n",
              "        google.colab.kernel.accessAllowed ? 'block' : 'none';\n",
              "\n",
              "      async function convertToInteractive(key) {\n",
              "        const element = document.querySelector('#df-8b48c957-7bd4-4409-9e12-b20c362abb48');\n",
              "        const dataTable =\n",
              "          await google.colab.kernel.invokeFunction('convertToInteractive',\n",
              "                                                    [key], {});\n",
              "        if (!dataTable) return;\n",
              "\n",
              "        const docLinkHtml = 'Like what you see? Visit the ' +\n",
              "          '<a target=\"_blank\" href=https://colab.research.google.com/notebooks/data_table.ipynb>data table notebook</a>'\n",
              "          + ' to learn more about interactive tables.';\n",
              "        element.innerHTML = '';\n",
              "        dataTable['output_type'] = 'display_data';\n",
              "        await google.colab.output.renderOutput(dataTable, element);\n",
              "        const docLink = document.createElement('div');\n",
              "        docLink.innerHTML = docLinkHtml;\n",
              "        element.appendChild(docLink);\n",
              "      }\n",
              "    </script>\n",
              "  </div>\n",
              "\n",
              "\n",
              "<div id=\"df-a8d678db-15e2-45fc-94f0-ed8a587bc657\">\n",
              "  <button class=\"colab-df-quickchart\" onclick=\"quickchart('df-a8d678db-15e2-45fc-94f0-ed8a587bc657')\"\n",
              "            title=\"Suggest charts.\"\n",
              "            style=\"display:none;\">\n",
              "\n",
              "<svg xmlns=\"http://www.w3.org/2000/svg\" height=\"24px\"viewBox=\"0 0 24 24\"\n",
              "     width=\"24px\">\n",
              "    <g>\n",
              "        <path d=\"M19 3H5c-1.1 0-2 .9-2 2v14c0 1.1.9 2 2 2h14c1.1 0 2-.9 2-2V5c0-1.1-.9-2-2-2zM9 17H7v-7h2v7zm4 0h-2V7h2v10zm4 0h-2v-4h2v4z\"/>\n",
              "    </g>\n",
              "</svg>\n",
              "  </button>\n",
              "\n",
              "<style>\n",
              "  .colab-df-quickchart {\n",
              "      --bg-color: #E8F0FE;\n",
              "      --fill-color: #1967D2;\n",
              "      --hover-bg-color: #E2EBFA;\n",
              "      --hover-fill-color: #174EA6;\n",
              "      --disabled-fill-color: #AAA;\n",
              "      --disabled-bg-color: #DDD;\n",
              "  }\n",
              "\n",
              "  [theme=dark] .colab-df-quickchart {\n",
              "      --bg-color: #3B4455;\n",
              "      --fill-color: #D2E3FC;\n",
              "      --hover-bg-color: #434B5C;\n",
              "      --hover-fill-color: #FFFFFF;\n",
              "      --disabled-bg-color: #3B4455;\n",
              "      --disabled-fill-color: #666;\n",
              "  }\n",
              "\n",
              "  .colab-df-quickchart {\n",
              "    background-color: var(--bg-color);\n",
              "    border: none;\n",
              "    border-radius: 50%;\n",
              "    cursor: pointer;\n",
              "    display: none;\n",
              "    fill: var(--fill-color);\n",
              "    height: 32px;\n",
              "    padding: 0;\n",
              "    width: 32px;\n",
              "  }\n",
              "\n",
              "  .colab-df-quickchart:hover {\n",
              "    background-color: var(--hover-bg-color);\n",
              "    box-shadow: 0 1px 2px rgba(60, 64, 67, 0.3), 0 1px 3px 1px rgba(60, 64, 67, 0.15);\n",
              "    fill: var(--button-hover-fill-color);\n",
              "  }\n",
              "\n",
              "  .colab-df-quickchart-complete:disabled,\n",
              "  .colab-df-quickchart-complete:disabled:hover {\n",
              "    background-color: var(--disabled-bg-color);\n",
              "    fill: var(--disabled-fill-color);\n",
              "    box-shadow: none;\n",
              "  }\n",
              "\n",
              "  .colab-df-spinner {\n",
              "    border: 2px solid var(--fill-color);\n",
              "    border-color: transparent;\n",
              "    border-bottom-color: var(--fill-color);\n",
              "    animation:\n",
              "      spin 1s steps(1) infinite;\n",
              "  }\n",
              "\n",
              "  @keyframes spin {\n",
              "    0% {\n",
              "      border-color: transparent;\n",
              "      border-bottom-color: var(--fill-color);\n",
              "      border-left-color: var(--fill-color);\n",
              "    }\n",
              "    20% {\n",
              "      border-color: transparent;\n",
              "      border-left-color: var(--fill-color);\n",
              "      border-top-color: var(--fill-color);\n",
              "    }\n",
              "    30% {\n",
              "      border-color: transparent;\n",
              "      border-left-color: var(--fill-color);\n",
              "      border-top-color: var(--fill-color);\n",
              "      border-right-color: var(--fill-color);\n",
              "    }\n",
              "    40% {\n",
              "      border-color: transparent;\n",
              "      border-right-color: var(--fill-color);\n",
              "      border-top-color: var(--fill-color);\n",
              "    }\n",
              "    60% {\n",
              "      border-color: transparent;\n",
              "      border-right-color: var(--fill-color);\n",
              "    }\n",
              "    80% {\n",
              "      border-color: transparent;\n",
              "      border-right-color: var(--fill-color);\n",
              "      border-bottom-color: var(--fill-color);\n",
              "    }\n",
              "    90% {\n",
              "      border-color: transparent;\n",
              "      border-bottom-color: var(--fill-color);\n",
              "    }\n",
              "  }\n",
              "</style>\n",
              "\n",
              "  <script>\n",
              "    async function quickchart(key) {\n",
              "      const quickchartButtonEl =\n",
              "        document.querySelector('#' + key + ' button');\n",
              "      quickchartButtonEl.disabled = true;  // To prevent multiple clicks.\n",
              "      quickchartButtonEl.classList.add('colab-df-spinner');\n",
              "      try {\n",
              "        const charts = await google.colab.kernel.invokeFunction(\n",
              "            'suggestCharts', [key], {});\n",
              "      } catch (error) {\n",
              "        console.error('Error during call to suggestCharts:', error);\n",
              "      }\n",
              "      quickchartButtonEl.classList.remove('colab-df-spinner');\n",
              "      quickchartButtonEl.classList.add('colab-df-quickchart-complete');\n",
              "    }\n",
              "    (() => {\n",
              "      let quickchartButtonEl =\n",
              "        document.querySelector('#df-a8d678db-15e2-45fc-94f0-ed8a587bc657 button');\n",
              "      quickchartButtonEl.style.display =\n",
              "        google.colab.kernel.accessAllowed ? 'block' : 'none';\n",
              "    })();\n",
              "  </script>\n",
              "</div>\n",
              "    </div>\n",
              "  </div>\n"
            ]
          },
          "metadata": {},
          "execution_count": 12
        }
      ],
      "source": [
        "filtered_df.head()"
      ]
    },
    {
      "cell_type": "code",
      "execution_count": 13,
      "metadata": {
        "id": "vXYVqQTwxZEy"
      },
      "outputs": [],
      "source": [
        "balanced_df = pd.DataFrame(columns = filtered_df.columns)"
      ]
    },
    {
      "cell_type": "code",
      "execution_count": 14,
      "metadata": {
        "id": "fZJvqsbjxbcy"
      },
      "outputs": [],
      "source": [
        "class_subset1 = filtered_df[filtered_df['class'] == 'class1'].sample(50000, random_state=42)\n",
        "balanced_df = balanced_df.append(class_subset1)\n",
        "class_subset2 = filtered_df[filtered_df['class'] == 'class2'].sample(50000, random_state=42)\n",
        "balanced_df = balanced_df.append(class_subset2)"
      ]
    },
    {
      "cell_type": "code",
      "execution_count": 15,
      "metadata": {
        "colab": {
          "base_uri": "https://localhost:8080/",
          "height": 204
        },
        "id": "hlp1fK0IxdGE",
        "outputId": "3e0f14d2-c5f5-4778-dfcf-0e8780e64b67"
      },
      "outputs": [
        {
          "output_type": "execute_result",
          "data": {
            "text/plain": [
              "         star_rating                                    review_headline  \\\n",
              "206428           1.0  False advertisement! Doesn't work with lifepro...   \n",
              "104177           1.0                                   horrible product   \n",
              "1610066          2.0                  Doesn't work for my Epson printer   \n",
              "2489071          1.0                                       Not received   \n",
              "1505472          3.0      5 gears are good but 7 would have been better   \n",
              "\n",
              "                                               review_body   class  \n",
              "206428   it says right in the specifications that it wo...  class1  \n",
              "104177   These things were horrible.  Used 6 to hang a ...  class1  \n",
              "1610066  Not sure why, but works for one Epson printer ...  class1  \n",
              "2489071  I ordered two letter organizers and received t...  class1  \n",
              "1505472  This kit comes with 5 gears, 4 of which go int...  class1  "
            ],
            "text/html": [
              "\n",
              "  <div id=\"df-4f992d65-05f7-471a-97d3-f5361065f548\" class=\"colab-df-container\">\n",
              "    <div>\n",
              "<style scoped>\n",
              "    .dataframe tbody tr th:only-of-type {\n",
              "        vertical-align: middle;\n",
              "    }\n",
              "\n",
              "    .dataframe tbody tr th {\n",
              "        vertical-align: top;\n",
              "    }\n",
              "\n",
              "    .dataframe thead th {\n",
              "        text-align: right;\n",
              "    }\n",
              "</style>\n",
              "<table border=\"1\" class=\"dataframe\">\n",
              "  <thead>\n",
              "    <tr style=\"text-align: right;\">\n",
              "      <th></th>\n",
              "      <th>star_rating</th>\n",
              "      <th>review_headline</th>\n",
              "      <th>review_body</th>\n",
              "      <th>class</th>\n",
              "    </tr>\n",
              "  </thead>\n",
              "  <tbody>\n",
              "    <tr>\n",
              "      <th>206428</th>\n",
              "      <td>1.0</td>\n",
              "      <td>False advertisement! Doesn't work with lifepro...</td>\n",
              "      <td>it says right in the specifications that it wo...</td>\n",
              "      <td>class1</td>\n",
              "    </tr>\n",
              "    <tr>\n",
              "      <th>104177</th>\n",
              "      <td>1.0</td>\n",
              "      <td>horrible product</td>\n",
              "      <td>These things were horrible.  Used 6 to hang a ...</td>\n",
              "      <td>class1</td>\n",
              "    </tr>\n",
              "    <tr>\n",
              "      <th>1610066</th>\n",
              "      <td>2.0</td>\n",
              "      <td>Doesn't work for my Epson printer</td>\n",
              "      <td>Not sure why, but works for one Epson printer ...</td>\n",
              "      <td>class1</td>\n",
              "    </tr>\n",
              "    <tr>\n",
              "      <th>2489071</th>\n",
              "      <td>1.0</td>\n",
              "      <td>Not received</td>\n",
              "      <td>I ordered two letter organizers and received t...</td>\n",
              "      <td>class1</td>\n",
              "    </tr>\n",
              "    <tr>\n",
              "      <th>1505472</th>\n",
              "      <td>3.0</td>\n",
              "      <td>5 gears are good but 7 would have been better</td>\n",
              "      <td>This kit comes with 5 gears, 4 of which go int...</td>\n",
              "      <td>class1</td>\n",
              "    </tr>\n",
              "  </tbody>\n",
              "</table>\n",
              "</div>\n",
              "    <div class=\"colab-df-buttons\">\n",
              "\n",
              "  <div class=\"colab-df-container\">\n",
              "    <button class=\"colab-df-convert\" onclick=\"convertToInteractive('df-4f992d65-05f7-471a-97d3-f5361065f548')\"\n",
              "            title=\"Convert this dataframe to an interactive table.\"\n",
              "            style=\"display:none;\">\n",
              "\n",
              "  <svg xmlns=\"http://www.w3.org/2000/svg\" height=\"24px\" viewBox=\"0 -960 960 960\">\n",
              "    <path d=\"M120-120v-720h720v720H120Zm60-500h600v-160H180v160Zm220 220h160v-160H400v160Zm0 220h160v-160H400v160ZM180-400h160v-160H180v160Zm440 0h160v-160H620v160ZM180-180h160v-160H180v160Zm440 0h160v-160H620v160Z\"/>\n",
              "  </svg>\n",
              "    </button>\n",
              "\n",
              "  <style>\n",
              "    .colab-df-container {\n",
              "      display:flex;\n",
              "      gap: 12px;\n",
              "    }\n",
              "\n",
              "    .colab-df-convert {\n",
              "      background-color: #E8F0FE;\n",
              "      border: none;\n",
              "      border-radius: 50%;\n",
              "      cursor: pointer;\n",
              "      display: none;\n",
              "      fill: #1967D2;\n",
              "      height: 32px;\n",
              "      padding: 0 0 0 0;\n",
              "      width: 32px;\n",
              "    }\n",
              "\n",
              "    .colab-df-convert:hover {\n",
              "      background-color: #E2EBFA;\n",
              "      box-shadow: 0px 1px 2px rgba(60, 64, 67, 0.3), 0px 1px 3px 1px rgba(60, 64, 67, 0.15);\n",
              "      fill: #174EA6;\n",
              "    }\n",
              "\n",
              "    .colab-df-buttons div {\n",
              "      margin-bottom: 4px;\n",
              "    }\n",
              "\n",
              "    [theme=dark] .colab-df-convert {\n",
              "      background-color: #3B4455;\n",
              "      fill: #D2E3FC;\n",
              "    }\n",
              "\n",
              "    [theme=dark] .colab-df-convert:hover {\n",
              "      background-color: #434B5C;\n",
              "      box-shadow: 0px 1px 3px 1px rgba(0, 0, 0, 0.15);\n",
              "      filter: drop-shadow(0px 1px 2px rgba(0, 0, 0, 0.3));\n",
              "      fill: #FFFFFF;\n",
              "    }\n",
              "  </style>\n",
              "\n",
              "    <script>\n",
              "      const buttonEl =\n",
              "        document.querySelector('#df-4f992d65-05f7-471a-97d3-f5361065f548 button.colab-df-convert');\n",
              "      buttonEl.style.display =\n",
              "        google.colab.kernel.accessAllowed ? 'block' : 'none';\n",
              "\n",
              "      async function convertToInteractive(key) {\n",
              "        const element = document.querySelector('#df-4f992d65-05f7-471a-97d3-f5361065f548');\n",
              "        const dataTable =\n",
              "          await google.colab.kernel.invokeFunction('convertToInteractive',\n",
              "                                                    [key], {});\n",
              "        if (!dataTable) return;\n",
              "\n",
              "        const docLinkHtml = 'Like what you see? Visit the ' +\n",
              "          '<a target=\"_blank\" href=https://colab.research.google.com/notebooks/data_table.ipynb>data table notebook</a>'\n",
              "          + ' to learn more about interactive tables.';\n",
              "        element.innerHTML = '';\n",
              "        dataTable['output_type'] = 'display_data';\n",
              "        await google.colab.output.renderOutput(dataTable, element);\n",
              "        const docLink = document.createElement('div');\n",
              "        docLink.innerHTML = docLinkHtml;\n",
              "        element.appendChild(docLink);\n",
              "      }\n",
              "    </script>\n",
              "  </div>\n",
              "\n",
              "\n",
              "<div id=\"df-459b59b5-c383-44b0-9160-e35cd4929c8b\">\n",
              "  <button class=\"colab-df-quickchart\" onclick=\"quickchart('df-459b59b5-c383-44b0-9160-e35cd4929c8b')\"\n",
              "            title=\"Suggest charts.\"\n",
              "            style=\"display:none;\">\n",
              "\n",
              "<svg xmlns=\"http://www.w3.org/2000/svg\" height=\"24px\"viewBox=\"0 0 24 24\"\n",
              "     width=\"24px\">\n",
              "    <g>\n",
              "        <path d=\"M19 3H5c-1.1 0-2 .9-2 2v14c0 1.1.9 2 2 2h14c1.1 0 2-.9 2-2V5c0-1.1-.9-2-2-2zM9 17H7v-7h2v7zm4 0h-2V7h2v10zm4 0h-2v-4h2v4z\"/>\n",
              "    </g>\n",
              "</svg>\n",
              "  </button>\n",
              "\n",
              "<style>\n",
              "  .colab-df-quickchart {\n",
              "      --bg-color: #E8F0FE;\n",
              "      --fill-color: #1967D2;\n",
              "      --hover-bg-color: #E2EBFA;\n",
              "      --hover-fill-color: #174EA6;\n",
              "      --disabled-fill-color: #AAA;\n",
              "      --disabled-bg-color: #DDD;\n",
              "  }\n",
              "\n",
              "  [theme=dark] .colab-df-quickchart {\n",
              "      --bg-color: #3B4455;\n",
              "      --fill-color: #D2E3FC;\n",
              "      --hover-bg-color: #434B5C;\n",
              "      --hover-fill-color: #FFFFFF;\n",
              "      --disabled-bg-color: #3B4455;\n",
              "      --disabled-fill-color: #666;\n",
              "  }\n",
              "\n",
              "  .colab-df-quickchart {\n",
              "    background-color: var(--bg-color);\n",
              "    border: none;\n",
              "    border-radius: 50%;\n",
              "    cursor: pointer;\n",
              "    display: none;\n",
              "    fill: var(--fill-color);\n",
              "    height: 32px;\n",
              "    padding: 0;\n",
              "    width: 32px;\n",
              "  }\n",
              "\n",
              "  .colab-df-quickchart:hover {\n",
              "    background-color: var(--hover-bg-color);\n",
              "    box-shadow: 0 1px 2px rgba(60, 64, 67, 0.3), 0 1px 3px 1px rgba(60, 64, 67, 0.15);\n",
              "    fill: var(--button-hover-fill-color);\n",
              "  }\n",
              "\n",
              "  .colab-df-quickchart-complete:disabled,\n",
              "  .colab-df-quickchart-complete:disabled:hover {\n",
              "    background-color: var(--disabled-bg-color);\n",
              "    fill: var(--disabled-fill-color);\n",
              "    box-shadow: none;\n",
              "  }\n",
              "\n",
              "  .colab-df-spinner {\n",
              "    border: 2px solid var(--fill-color);\n",
              "    border-color: transparent;\n",
              "    border-bottom-color: var(--fill-color);\n",
              "    animation:\n",
              "      spin 1s steps(1) infinite;\n",
              "  }\n",
              "\n",
              "  @keyframes spin {\n",
              "    0% {\n",
              "      border-color: transparent;\n",
              "      border-bottom-color: var(--fill-color);\n",
              "      border-left-color: var(--fill-color);\n",
              "    }\n",
              "    20% {\n",
              "      border-color: transparent;\n",
              "      border-left-color: var(--fill-color);\n",
              "      border-top-color: var(--fill-color);\n",
              "    }\n",
              "    30% {\n",
              "      border-color: transparent;\n",
              "      border-left-color: var(--fill-color);\n",
              "      border-top-color: var(--fill-color);\n",
              "      border-right-color: var(--fill-color);\n",
              "    }\n",
              "    40% {\n",
              "      border-color: transparent;\n",
              "      border-right-color: var(--fill-color);\n",
              "      border-top-color: var(--fill-color);\n",
              "    }\n",
              "    60% {\n",
              "      border-color: transparent;\n",
              "      border-right-color: var(--fill-color);\n",
              "    }\n",
              "    80% {\n",
              "      border-color: transparent;\n",
              "      border-right-color: var(--fill-color);\n",
              "      border-bottom-color: var(--fill-color);\n",
              "    }\n",
              "    90% {\n",
              "      border-color: transparent;\n",
              "      border-bottom-color: var(--fill-color);\n",
              "    }\n",
              "  }\n",
              "</style>\n",
              "\n",
              "  <script>\n",
              "    async function quickchart(key) {\n",
              "      const quickchartButtonEl =\n",
              "        document.querySelector('#' + key + ' button');\n",
              "      quickchartButtonEl.disabled = true;  // To prevent multiple clicks.\n",
              "      quickchartButtonEl.classList.add('colab-df-spinner');\n",
              "      try {\n",
              "        const charts = await google.colab.kernel.invokeFunction(\n",
              "            'suggestCharts', [key], {});\n",
              "      } catch (error) {\n",
              "        console.error('Error during call to suggestCharts:', error);\n",
              "      }\n",
              "      quickchartButtonEl.classList.remove('colab-df-spinner');\n",
              "      quickchartButtonEl.classList.add('colab-df-quickchart-complete');\n",
              "    }\n",
              "    (() => {\n",
              "      let quickchartButtonEl =\n",
              "        document.querySelector('#df-459b59b5-c383-44b0-9160-e35cd4929c8b button');\n",
              "      quickchartButtonEl.style.display =\n",
              "        google.colab.kernel.accessAllowed ? 'block' : 'none';\n",
              "    })();\n",
              "  </script>\n",
              "</div>\n",
              "    </div>\n",
              "  </div>\n"
            ]
          },
          "metadata": {},
          "execution_count": 15
        }
      ],
      "source": [
        "balanced_df.head()"
      ]
    },
    {
      "cell_type": "code",
      "execution_count": 16,
      "metadata": {
        "id": "d3Dw2-5Dxe8v"
      },
      "outputs": [],
      "source": [
        "review_text = balanced_df['review_body'].astype(str).apply(gensim.utils.simple_preprocess)"
      ]
    },
    {
      "cell_type": "code",
      "execution_count": 17,
      "metadata": {
        "id": "4O4zPC3LxhMr"
      },
      "outputs": [],
      "source": [
        "# Split the data into training and testing sets\n",
        "X_train, X_test, y_train, y_test = train_test_split(balanced_df['review_body'], balanced_df['class'], test_size=0.2, random_state=42)"
      ]
    },
    {
      "cell_type": "code",
      "execution_count": 18,
      "metadata": {
        "id": "fdwvcFv4xjUB"
      },
      "outputs": [],
      "source": [
        "X_train = X_train.astype(str).apply(gensim.utils.simple_preprocess)"
      ]
    },
    {
      "cell_type": "code",
      "execution_count": 19,
      "metadata": {
        "id": "BdZw7v_kxkzm"
      },
      "outputs": [],
      "source": [
        "X_test = X_test.astype(str).apply(gensim.utils.simple_preprocess)"
      ]
    },
    {
      "cell_type": "markdown",
      "metadata": {
        "id": "If1zXwKVxoXR"
      },
      "source": [
        "### 2. Word Embedding"
      ]
    },
    {
      "cell_type": "markdown",
      "metadata": {
        "id": "v57Frkjhxugi"
      },
      "source": [
        "#### 2 (a)"
      ]
    },
    {
      "cell_type": "code",
      "execution_count": 20,
      "metadata": {
        "colab": {
          "base_uri": "https://localhost:8080/"
        },
        "id": "ti2qvkj6xnKh",
        "outputId": "4a28324f-7505-4e99-aae1-94f9e8111547"
      },
      "outputs": [
        {
          "output_type": "stream",
          "name": "stdout",
          "text": [
            "[==================================================] 100.0% 1662.8/1662.8MB downloaded\n"
          ]
        }
      ],
      "source": [
        "wv = api.load('word2vec-google-news-300')"
      ]
    },
    {
      "cell_type": "code",
      "execution_count": 21,
      "metadata": {
        "id": "4IkulpIFxxu6"
      },
      "outputs": [],
      "source": [
        "pairs = [\n",
        "    ('King', 'Man'),   # a minivan is a kind of car\n",
        "    ('Queen', 'Woman'),\n",
        "    ('excellent', 'outstanding')\n",
        "]"
      ]
    },
    {
      "cell_type": "code",
      "execution_count": 22,
      "metadata": {
        "colab": {
          "base_uri": "https://localhost:8080/"
        },
        "id": "BtT-IRv_yBeN",
        "outputId": "48c2a756-e2b5-4f84-b9b9-ef14ca9091f3"
      },
      "outputs": [
        {
          "output_type": "stream",
          "name": "stdout",
          "text": [
            "'King'\t'Man'\t0.18\n",
            "'Queen'\t'Woman'\t0.17\n",
            "'excellent'\t'outstanding'\t0.56\n"
          ]
        }
      ],
      "source": [
        "for w1, w2 in pairs:\n",
        "    print('%r\\t%r\\t%.2f' % (w1, w2, wv.similarity(w1, w2)))"
      ]
    },
    {
      "cell_type": "code",
      "execution_count": 23,
      "metadata": {
        "id": "5R6wSZtDyEEo"
      },
      "outputs": [],
      "source": [
        "vec_king = wv['king']\n",
        "vec_queen = wv['queen']\n",
        "vec_man = wv['man']\n",
        "vec_woman = wv['woman']"
      ]
    },
    {
      "cell_type": "code",
      "execution_count": 24,
      "metadata": {
        "colab": {
          "base_uri": "https://localhost:8080/"
        },
        "id": "0G_JwyAByGOI",
        "outputId": "a17aa464-3239-47b0-c3b1-ac28ac2dfb48"
      },
      "outputs": [
        {
          "output_type": "stream",
          "name": "stdout",
          "text": [
            "Cosine similarity between calculated \"queen\" vector and original \"queen\" vector: 0.7300518\n"
          ]
        }
      ],
      "source": [
        "# Calculate the vector for 'queen' using vector arithmetic\n",
        "vec_queen_calc = vec_king - vec_man + vec_woman\n",
        "\n",
        "# Reshape the vectors for similarity calculation\n",
        "vec_queen_calc = vec_queen_calc.reshape(1, -1)\n",
        "vec_queen = vec_queen.reshape(1, -1)\n",
        "\n",
        "# Calculate cosine similarity\n",
        "similarity = cosine_similarity(vec_queen, vec_queen_calc)\n",
        "print('Cosine similarity between calculated \"queen\" vector and original \"queen\" vector:', similarity[0][0])"
      ]
    },
    {
      "cell_type": "markdown",
      "metadata": {
        "id": "ESYcGAs9yJs1"
      },
      "source": [
        "#### 2(b)"
      ]
    },
    {
      "cell_type": "code",
      "execution_count": 25,
      "metadata": {
        "id": "DPo4GPwcyKSn"
      },
      "outputs": [],
      "source": [
        "model = gensim.models.Word2Vec(\n",
        "    vector_size = 300,\n",
        "    window = 13,\n",
        "    min_count=9,\n",
        "    workers=4,\n",
        ")"
      ]
    },
    {
      "cell_type": "code",
      "execution_count": 26,
      "metadata": {
        "id": "dJKtBb8DyQBU"
      },
      "outputs": [],
      "source": [
        "# Building Vocab\n",
        "model.build_vocab(review_text, progress_per=1000)"
      ]
    },
    {
      "cell_type": "code",
      "execution_count": 27,
      "metadata": {
        "colab": {
          "base_uri": "https://localhost:8080/"
        },
        "id": "0s3Bik0QyS1Q",
        "outputId": "b6c8e2c3-d4b5-48fe-818e-68d8f7128407"
      },
      "outputs": [
        {
          "output_type": "execute_result",
          "data": {
            "text/plain": [
              "(20194068, 27325360)"
            ]
          },
          "metadata": {},
          "execution_count": 27
        }
      ],
      "source": [
        "# Train the Word2Vec Model\n",
        "model.train(review_text, total_examples=model.corpus_count, epochs=model.epochs)"
      ]
    },
    {
      "cell_type": "code",
      "execution_count": 28,
      "metadata": {
        "colab": {
          "base_uri": "https://localhost:8080/"
        },
        "id": "YY8f7xWdyVHI",
        "outputId": "97506b3f-1b66-47be-805f-4851e234659d"
      },
      "outputs": [
        {
          "output_type": "execute_result",
          "data": {
            "text/plain": [
              "0.80513096"
            ]
          },
          "metadata": {},
          "execution_count": 28
        }
      ],
      "source": [
        "# Checking similarity between words\n",
        "model.wv.similarity(w1=\"excellent\", w2=\"outstanding\")"
      ]
    },
    {
      "cell_type": "code",
      "execution_count": 29,
      "metadata": {
        "id": "wneqf97lyW4b"
      },
      "outputs": [],
      "source": [
        "vec_king = model.wv['king']\n",
        "vec_queen = model.wv['queen']\n",
        "vec_man = model.wv['man']\n",
        "vec_woman = model.wv['woman']"
      ]
    },
    {
      "cell_type": "code",
      "execution_count": 30,
      "metadata": {
        "colab": {
          "base_uri": "https://localhost:8080/"
        },
        "id": "gguwc_08yZHZ",
        "outputId": "06c92d5e-1074-46fd-810e-1fe4fecedb2d"
      },
      "outputs": [
        {
          "output_type": "stream",
          "name": "stdout",
          "text": [
            "Cosine similarity between calculated \"queen\" vector and original \"queen\" vector: 0.17913644\n"
          ]
        }
      ],
      "source": [
        "# Calculate the vector for 'queen' using vector arithmetic\n",
        "vec_queen_calc = vec_king - vec_man + vec_woman\n",
        "\n",
        "# Reshape the vectors for similarity calculation\n",
        "vec_queen_calc = vec_queen_calc.reshape(1, -1)\n",
        "vec_queen = vec_queen.reshape(1, -1)\n",
        "\n",
        "# Calculate cosine similarity\n",
        "similarity = cosine_similarity(vec_queen, vec_queen_calc)\n",
        "print('Cosine similarity between calculated \"queen\" vector and original \"queen\" vector:', similarity[0][0])"
      ]
    },
    {
      "cell_type": "markdown",
      "metadata": {
        "id": "W2Fx_CKEyb28"
      },
      "source": [
        "### 3. Simple models"
      ]
    },
    {
      "cell_type": "code",
      "execution_count": 31,
      "metadata": {
        "id": "RmwWUpENycN5"
      },
      "outputs": [],
      "source": [
        "from sklearn.linear_model import Perceptron\n",
        "from sklearn.svm import SVC"
      ]
    },
    {
      "cell_type": "code",
      "execution_count": 32,
      "metadata": {
        "id": "a1UeCAczygHE"
      },
      "outputs": [],
      "source": [
        "perceptron = Perceptron()\n",
        "svm = SVC()"
      ]
    },
    {
      "cell_type": "code",
      "execution_count": 33,
      "metadata": {
        "id": "jCqhEiMZyi1F"
      },
      "outputs": [],
      "source": [
        "# Generate average Word2Vec vectors for each review\n",
        "def generate_avg_word2vec_vectors(review, model):\n",
        "    vectors = [model[word] for word in review if word in model]\n",
        "    if vectors:\n",
        "        return np.mean(vectors, axis=0)\n",
        "    else:\n",
        "        return np.zeros(300)"
      ]
    },
    {
      "cell_type": "code",
      "execution_count": 34,
      "metadata": {
        "id": "B3_pk2H0yk0u"
      },
      "outputs": [],
      "source": [
        "# Train and predict using Word2Vec features\n",
        "X_train_word2vec = np.array([generate_avg_word2vec_vectors(review, wv) for review in X_train])\n",
        "X_test_word2vec = np.array([generate_avg_word2vec_vectors(review, wv) for review in X_test])\n",
        "\n",
        "\n",
        "perceptron.fit(X_train_word2vec, y_train)\n",
        "svm.fit(X_train_word2vec, y_train)\n",
        "y_pred_perceptron_word2vec = perceptron.predict(X_test_word2vec)\n",
        "y_pred_svm_word2vec = svm.predict(X_test_word2vec)"
      ]
    },
    {
      "cell_type": "code",
      "execution_count": 35,
      "metadata": {
        "id": "8uh5tVSwyoJO",
        "colab": {
          "base_uri": "https://localhost:8080/"
        },
        "outputId": "e6439811-cbb3-4f6f-fd97-997326edcc87"
      },
      "outputs": [
        {
          "output_type": "stream",
          "name": "stdout",
          "text": [
            "Precision: 0.8269012485811578\n",
            "Recall: 0.8711509715994021\n",
            "F1-score: 0.8484495559761246\n"
          ]
        }
      ],
      "source": [
        "# Calculate Precision, Recall, and F1-score\n",
        "precision_svm = precision_score(y_test, y_pred_svm_word2vec, pos_label ='class1') # Replace y_true with your true labels\n",
        "recall_svm = recall_score(y_test, y_pred_svm_word2vec, pos_label ='class1') # Replace y_true with your true labels\n",
        "f1_svm = f1_score(y_test, y_pred_svm_word2vec, pos_label ='class1')  # Replace y_true with your true labels\n",
        "\n",
        "# Print the results\n",
        "print(f'Precision: {precision_svm}')\n",
        "print(f'Recall: {recall_svm}')\n",
        "print(f'F1-score: {f1_svm}')"
      ]
    },
    {
      "cell_type": "code",
      "execution_count": 36,
      "metadata": {
        "id": "IcjMQlQqyqlw",
        "colab": {
          "base_uri": "https://localhost:8080/"
        },
        "outputId": "a7398ec3-fcc1-4122-ef38-fb67f13e10e7"
      },
      "outputs": [
        {
          "output_type": "stream",
          "name": "stdout",
          "text": [
            "Precision: 0.9229900632339657\n",
            "Recall: 0.40727453911310413\n",
            "F1-score: 0.5651662863859503\n"
          ]
        }
      ],
      "source": [
        "# Calculate Precision, Recall, and F1-score\n",
        "precision_per = precision_score(y_test, y_pred_perceptron_word2vec, pos_label ='class1') # Replace y_true with your true labels\n",
        "recall_per = recall_score(y_test, y_pred_perceptron_word2vec, pos_label ='class1') # Replace y_true with your true labels\n",
        "f1_per = f1_score(y_test, y_pred_perceptron_word2vec, pos_label ='class1')  # Replace y_true with your true labels\n",
        "\n",
        "# Print the results\n",
        "print(f'Precision: {precision_per}')\n",
        "print(f'Recall: {recall_per}')\n",
        "print(f'F1-score: {f1_per}')"
      ]
    },
    {
      "cell_type": "markdown",
      "metadata": {
        "id": "wJwUiJLiyueM"
      },
      "source": [
        "### 4. Feedforward Neural Networks"
      ]
    },
    {
      "cell_type": "code",
      "execution_count": 37,
      "metadata": {
        "id": "oVauG-Ynyu6z"
      },
      "outputs": [],
      "source": [
        "import torch\n",
        "import torch.nn as nn\n",
        "import torch.optim as optim\n",
        "from torch.utils.data import TensorDataset, DataLoader\n",
        "import torch.nn.functional as F"
      ]
    },
    {
      "cell_type": "code",
      "execution_count": 38,
      "metadata": {
        "id": "vKj9tY-95JVA"
      },
      "outputs": [],
      "source": [
        "# Convert labels to numerical values\n",
        "label_mapping = {'class1': 0, 'class2': 1}\n",
        "y_train_numeric = y_train.map(label_mapping)\n",
        "y_test_numeric = y_test.map(label_mapping)"
      ]
    },
    {
      "cell_type": "code",
      "execution_count": 39,
      "metadata": {
        "colab": {
          "base_uri": "https://localhost:8080/"
        },
        "id": "G-djZsCp5yFT",
        "outputId": "78979f64-7f2d-4524-9882-24fa09977b24"
      },
      "outputs": [
        {
          "output_type": "stream",
          "name": "stdout",
          "text": [
            "Unique values in y_train: ['class1' 'class2']\n",
            "Unique values in y_test: ['class1' 'class2']\n"
          ]
        }
      ],
      "source": [
        "print(\"Unique values in y_train:\", np.unique(y_train.values))\n",
        "print(\"Unique values in y_test:\", np.unique(y_test.values))\n"
      ]
    },
    {
      "cell_type": "code",
      "execution_count": 40,
      "metadata": {
        "id": "SdvVFHMvyxvE"
      },
      "outputs": [],
      "source": [
        "# Convert the data to PyTorch tensors\n",
        "X_train_tensor = torch.tensor(X_train_word2vec, dtype=torch.float32)\n",
        "X_test_tensor = torch.tensor(X_test_word2vec, dtype=torch.float32)\n",
        "y_train_tensor = torch.tensor(y_train_numeric.values, dtype=torch.long)\n",
        "y_test_tensor = torch.tensor(y_test_numeric.values, dtype=torch.long)"
      ]
    },
    {
      "cell_type": "code",
      "execution_count": 41,
      "metadata": {
        "id": "I_DPgWoq48sJ"
      },
      "outputs": [],
      "source": [
        "# Define vec_size\n",
        "vec_size = 300  # Assuming Word2Vec vectors are of size 300\n",
        "\n",
        "# Define the MLP model\n",
        "class MLP(nn.Module):\n",
        "    def __init__(self):\n",
        "        super(MLP, self).__init__()\n",
        "        self.fc1 = nn.Linear(vec_size, 50)\n",
        "        self.fc2 = nn.Linear(50, 5)\n",
        "        self.fc3 = nn.Linear(5, 2)  # Output layer\n",
        "\n",
        "    def forward(self, x):\n",
        "        x = F.relu(self.fc1(x))\n",
        "        x = F.relu(self.fc2(x))\n",
        "        x = self.fc3(x)\n",
        "        return x"
      ]
    },
    {
      "cell_type": "code",
      "execution_count": 42,
      "metadata": {
        "id": "faLrS8X06KmR"
      },
      "outputs": [],
      "source": [
        "# Initialize the model, loss function, and optimizer\n",
        "model = MLP()\n",
        "criterion = nn.CrossEntropyLoss()\n",
        "optimizer = optim.Adam(model.parameters(), lr=0.001)"
      ]
    },
    {
      "cell_type": "code",
      "execution_count": 43,
      "metadata": {
        "id": "kwa5uhia6Mya"
      },
      "outputs": [],
      "source": [
        "# Define the DataLoader for training and testing sets\n",
        "train_dataset = TensorDataset(X_train_tensor, y_train_tensor)\n",
        "train_loader = DataLoader(train_dataset, batch_size=32, shuffle=True)\n",
        "test_dataset = TensorDataset(X_test_tensor, y_test_tensor)\n",
        "test_loader = DataLoader(test_dataset, batch_size=32, shuffle=False)"
      ]
    },
    {
      "cell_type": "code",
      "execution_count": 44,
      "metadata": {
        "id": "hQ4Qhhae6bwY"
      },
      "outputs": [],
      "source": [
        "# Train the model\n",
        "num_epochs = 10  # Adjust the number of epochs as needed\n",
        "for epoch in range(num_epochs):\n",
        "    model.train()\n",
        "    for inputs, labels in train_loader:\n",
        "        optimizer.zero_grad()\n",
        "        outputs = model(inputs)\n",
        "        loss = criterion(outputs, labels)\n",
        "        loss.backward()\n",
        "        optimizer.step()"
      ]
    },
    {
      "cell_type": "code",
      "execution_count": 45,
      "metadata": {
        "colab": {
          "base_uri": "https://localhost:8080/"
        },
        "id": "69XpDEOk6d-0",
        "outputId": "afa2dd2b-2638-4c7f-d91d-0fa2252afd5d"
      },
      "outputs": [
        {
          "output_type": "stream",
          "name": "stdout",
          "text": [
            "Accuracy on the testing set: 0.84175\n"
          ]
        }
      ],
      "source": [
        "# Evaluate the model on the testing set\n",
        "model.eval()\n",
        "correct = 0\n",
        "total = 0\n",
        "with torch.no_grad():\n",
        "    for inputs, labels in test_loader:\n",
        "        outputs = model(inputs)\n",
        "        _, predicted = torch.max(outputs.data, 1)\n",
        "        total += labels.size(0)\n",
        "        correct += (predicted == labels).sum().item()\n",
        "\n",
        "accuracy = correct / total\n",
        "print('Accuracy on the testing set:', accuracy)"
      ]
    },
    {
      "cell_type": "markdown",
      "metadata": {
        "id": "Wo2ShW-V7i8H"
      },
      "source": [
        "#### 4(b)"
      ]
    },
    {
      "cell_type": "code",
      "execution_count": 46,
      "metadata": {
        "id": "a_Awrey67ocg"
      },
      "outputs": [],
      "source": [
        "# Concatenate the first 10 Word2Vec vectors for each review\n",
        "def concatenate_word2vec_vectors(review_text, num_vectors=10):\n",
        "    concatenated_vectors = []\n",
        "    for review in review_text:\n",
        "        review_vectors = [wv[word] for word in review[:num_vectors] if word in wv]\n",
        "        if len(review_vectors) < num_vectors:\n",
        "            # If a review has less than num_vectors words in Word2Vec, pad with zeros\n",
        "            review_vectors.extend([np.zeros(300)] * (num_vectors - len(review_vectors)))\n",
        "        concatenated_vectors.append(np.concatenate(review_vectors))\n",
        "    return np.array(concatenated_vectors)"
      ]
    },
    {
      "cell_type": "code",
      "execution_count": 47,
      "metadata": {
        "id": "WSFFK6u07sFW"
      },
      "outputs": [],
      "source": [
        "# Concatenate the first 10 Word2Vec vectors for training and testing data\n",
        "X_train_concat = concatenate_word2vec_vectors(X_train_word2vec)\n",
        "X_test_concat = concatenate_word2vec_vectors(X_test_word2vec)\n",
        "\n",
        "# Convert to PyTorch tensors\n",
        "X_train_tensor_concat = torch.tensor(X_train_concat, dtype=torch.float32)\n",
        "X_test_tensor_concat = torch.tensor(X_test_concat, dtype=torch.float32)"
      ]
    },
    {
      "cell_type": "code",
      "execution_count": 48,
      "metadata": {
        "id": "vrnpKo6r75ho"
      },
      "outputs": [],
      "source": [
        "class MLPConcat(nn.Module):\n",
        "    def __init__(self):\n",
        "        super(MLPConcat, self).__init__()\n",
        "        self.fc1 = nn.Linear(3000, 100)  # Increased units to 100\n",
        "        self.fc2 = nn.Linear(100, 20)  # Increased units to 20\n",
        "        self.fc3 = nn.Linear(20, 2)  # Output layer\n",
        "\n",
        "    def forward(self, x):\n",
        "        x = F.relu(self.fc1(x))\n",
        "        x = F.relu(self.fc2(x))\n",
        "        x = self.fc3(x)\n",
        "        return x"
      ]
    },
    {
      "cell_type": "code",
      "execution_count": 49,
      "metadata": {
        "id": "vaaI-Ffw71HE"
      },
      "outputs": [],
      "source": [
        "# Initialize the model, loss function, and optimizer for updated model\n",
        "model_concat_updated = MLPConcat()\n",
        "criterion_concat = nn.CrossEntropyLoss()\n",
        "optimizer_concat = optim.Adam(model_concat_updated.parameters(), lr=0.001)"
      ]
    },
    {
      "cell_type": "code",
      "execution_count": 50,
      "metadata": {
        "id": "9tIfvmZP8osX"
      },
      "outputs": [],
      "source": [
        "# Define the DataLoader for training and testing sets\n",
        "train_dataset = TensorDataset(X_train_tensor_concat, y_train_tensor)\n",
        "train_loader = DataLoader(train_dataset, batch_size=32, shuffle=True)\n",
        "test_dataset = TensorDataset(X_test_tensor_concat, y_test_tensor)\n",
        "test_loader = DataLoader(test_dataset, batch_size=32, shuffle=False)"
      ]
    },
    {
      "cell_type": "code",
      "execution_count": 51,
      "metadata": {
        "id": "5e8EDuqL8UCX"
      },
      "outputs": [],
      "source": [
        "num_epochs = 10  # Adjust the number of epochs as needed\n",
        "for epoch in range(num_epochs):\n",
        "    model_concat_updated.train()\n",
        "    for inputs, labels in train_loader:\n",
        "        optimizer.zero_grad()\n",
        "        outputs = model_concat_updated(inputs)\n",
        "        loss = criterion(outputs, labels)\n",
        "        loss.backward()\n",
        "        optimizer.step()"
      ]
    },
    {
      "cell_type": "code",
      "execution_count": 52,
      "metadata": {
        "colab": {
          "base_uri": "https://localhost:8080/"
        },
        "id": "YZZFKyr_9C8N",
        "outputId": "cb71eade-f503-4b10-d5a4-4f2952edb444"
      },
      "outputs": [
        {
          "output_type": "stream",
          "name": "stdout",
          "text": [
            "Accuracy on the testing set: 0.50175\n"
          ]
        }
      ],
      "source": [
        "# Evaluate the model on the testing set\n",
        "model_concat_updated.eval()\n",
        "correct = 0\n",
        "total = 0\n",
        "with torch.no_grad():\n",
        "    for inputs, labels in test_loader:\n",
        "        outputs = model_concat_updated(inputs)\n",
        "        _, predicted = torch.max(outputs.data, 1)\n",
        "        total += labels.size(0)\n",
        "        correct += (predicted == labels).sum().item()\n",
        "\n",
        "accuracy = correct / total\n",
        "print('Accuracy on the testing set:', accuracy)"
      ]
    },
    {
      "cell_type": "markdown",
      "metadata": {
        "id": "NUn8RuES7EsQ"
      },
      "source": [
        "### 5. Recurrent Neural Networks"
      ]
    },
    {
      "cell_type": "code",
      "execution_count": 92,
      "metadata": {
        "id": "A6_EWmtA66Yf"
      },
      "outputs": [],
      "source": [
        "class SimpleRNN(nn.Module):\n",
        "    def __init__(self, input_size, hidden_size, num_layers, output_size):\n",
        "        super(SimpleRNN, self).__init__()\n",
        "        self.hidden_size = hidden_size\n",
        "        self.num_layers = num_layers\n",
        "        self.rnn = nn.RNN(input_size, hidden_size, num_layers, batch_first=True)\n",
        "        self.fc = nn.Linear(hidden_size, output_size)\n",
        "\n",
        "    def forward(self, x):\n",
        "        # Initialize the initial hidden state\n",
        "        h0 = torch.zeros(self.num_layers, x.size(0), self.hidden_size).to(x.device)\n",
        "\n",
        "        # Forward pass\n",
        "        out, _ = self.rnn(x, h0)\n",
        "\n",
        "        # Index hidden state of last time step\n",
        "        out = self.fc(out[:, -1, :])\n",
        "        return out"
      ]
    },
    {
      "cell_type": "code",
      "source": [
        "def preprocess_word2vec_features(data, max_length):\n",
        "    \"\"\"\n",
        "    Preprocesses Word2Vec features by truncating longer reviews and padding shorter reviews with zero vectors.\n",
        "\n",
        "    Parameters:\n",
        "    data (numpy.ndarray): Word2Vec features for reviews.\n",
        "    max_length (int): Maximum review length.\n",
        "\n",
        "    Returns:\n",
        "    numpy.ndarray: Preprocessed Word2Vec features.\n",
        "    \"\"\"\n",
        "    processed_data = []\n",
        "    for review_vectors in data:\n",
        "        if len(review_vectors) > max_length:\n",
        "            processed_data.append(review_vectors[:max_length])\n",
        "        elif len(review_vectors) < max_length:\n",
        "            # Pad with zero vectors\n",
        "            padding_length = max_length - len(review_vectors)\n",
        "            padding_vectors = np.zeros((padding_length, review_vectors.shape[1]))\n",
        "            processed_data.append(np.vstack((review_vectors, padding_vectors)))\n",
        "        else:\n",
        "            processed_data.append(review_vectors)\n",
        "    return np.array(processed_data)"
      ],
      "metadata": {
        "id": "GNbneWkVjEu4"
      },
      "execution_count": 85,
      "outputs": []
    },
    {
      "cell_type": "code",
      "source": [
        "# Preprocess the Word2Vec features\n",
        "max_length = 10  # Maximum review length\n",
        "X_train_rnn = preprocess_word2vec_features(X_train_word2vec, max_length)\n",
        "X_test_rnn = preprocess_word2vec_features(X_test_word2vec, max_length)"
      ],
      "metadata": {
        "id": "HzQXwHCTe1Fx"
      },
      "execution_count": 93,
      "outputs": []
    },
    {
      "cell_type": "code",
      "source": [
        "# Convert data to PyTorch tensors\n",
        "X_train_tensor_rnn = torch.tensor(X_train_rnn, dtype=torch.float32)\n",
        "X_test_tensor_rnn = torch.tensor(X_test_rnn, dtype=torch.float32)\n",
        "y_train_tensor_rnn = torch.tensor(y_train_numeric.values, dtype=torch.long)\n",
        "y_test_tensor_rnn = torch.tensor(y_test_numeric.values, dtype=torch.long)"
      ],
      "metadata": {
        "id": "olf063Nce4VD"
      },
      "execution_count": 94,
      "outputs": []
    },
    {
      "cell_type": "code",
      "source": [
        "# Initialize the RNN model with num_layers\n",
        "rnn_model = SimpleRNN(input_size=300, hidden_size=10, num_layers=1, output_size=2)\n"
      ],
      "metadata": {
        "id": "QlVh4SZwjYYO"
      },
      "execution_count": 95,
      "outputs": []
    },
    {
      "cell_type": "code",
      "source": [
        "# Define loss and optimizer\n",
        "criterion_rnn = nn.CrossEntropyLoss()\n",
        "optimizer_rnn = torch.optim.Adam(rnn_model.parameters(), lr=0.001)"
      ],
      "metadata": {
        "id": "7QT0kXt3jcJL"
      },
      "execution_count": 96,
      "outputs": []
    },
    {
      "cell_type": "code",
      "source": [
        "# Define the DataLoader for training and testing sets\n",
        "train_dataset_rnn = TensorDataset(X_train_tensor_rnn, y_train_tensor_rnn)\n",
        "train_loader_rnn = DataLoader(train_dataset_rnn, batch_size=32, shuffle=True)\n",
        "test_dataset_rnn = TensorDataset(X_test_tensor_rnn, y_test_tensor_rnn)\n",
        "test_loader_rnn = DataLoader(test_dataset_rnn, batch_size=32, shuffle=False)"
      ],
      "metadata": {
        "id": "aw-CmxSdjenC"
      },
      "execution_count": 97,
      "outputs": []
    },
    {
      "cell_type": "code",
      "source": [
        "# Define the device\n",
        "device = torch.device('cuda' if torch.cuda.is_available() else 'cpu')\n",
        "\n",
        "# Assuming vec_size is the correct input size for the RNN model (e.g., 300)\n",
        "vec_size = 300\n",
        "\n",
        "# Train the RNN model\n",
        "num_epochs = 10\n",
        "\n",
        "for epoch in range(num_epochs):\n",
        "    rnn_model.train()\n",
        "\n",
        "    for inputs, labels in train_loader_rnn:\n",
        "        # Check if the inputs have the correct length\n",
        "        if inputs.shape[1] != vec_size:\n",
        "            # If not, pad or truncate to the correct length\n",
        "            pad_width = max(0, vec_size - inputs.shape[1])\n",
        "            inputs = F.pad(inputs, (0, pad_width))\n",
        "\n",
        "        # Reshape inputs to match the expected dimensions (batch_size, sequence_length, input_size)\n",
        "        inputs = inputs.unsqueeze(1)  # Add a dummy sequence length dimension\n",
        "        inputs = inputs.repeat(1, vec_size, 1)  # Repeat to match sequence length\n",
        "        inputs = inputs.permute(0, 2, 1)  # Permute dimensions\n",
        "\n",
        "        # Zero the gradients\n",
        "        optimizer_rnn.zero_grad()\n",
        "\n",
        "        # Forward pass\n",
        "        outputs = rnn_model(inputs)\n",
        "\n",
        "        # Compute the loss\n",
        "        loss = criterion_rnn(outputs, labels)\n",
        "\n",
        "        # Backward pass and optimize\n",
        "        loss.backward()\n",
        "        optimizer_rnn.step()\n"
      ],
      "metadata": {
        "id": "QBhAYmKPjiL6"
      },
      "execution_count": 100,
      "outputs": []
    },
    {
      "cell_type": "code",
      "source": [
        "# Evaluate the RNN model\n",
        "rnn_model.eval()\n",
        "correct = 0\n",
        "total = 0\n",
        "with torch.no_grad():\n",
        "    for inputs, labels in test_loader_rnn:\n",
        "        # Check if the inputs have the correct length\n",
        "        if inputs.shape[1] != vec_size:\n",
        "            pad_width = max(0, vec_size - inputs.shape[1])\n",
        "            inputs = F.pad(inputs, (0, pad_width))\n",
        "\n",
        "        # Reshape inputs to match the expected dimensions (batch_size, sequence_length, input_size)\n",
        "        inputs = inputs.unsqueeze(1)\n",
        "        inputs = inputs.repeat(1, vec_size, 1)\n",
        "        inputs = inputs.permute(0, 2, 1)\n",
        "\n",
        "        outputs = rnn_model(inputs)\n",
        "        _, predicted = torch.max(outputs, 1)\n",
        "        total += labels.size(0)\n",
        "        correct += (predicted == labels).sum().item()\n",
        "\n",
        "accuracy_rnn = correct / total\n",
        "print('Accuracy on the testing set (RNN):', accuracy_rnn)\n"
      ],
      "metadata": {
        "colab": {
          "base_uri": "https://localhost:8080/"
        },
        "id": "ahWNzUWNjkzm",
        "outputId": "4a53a7b6-c563-47f7-ab36-f9e3195ea501"
      },
      "execution_count": 102,
      "outputs": [
        {
          "output_type": "stream",
          "name": "stdout",
          "text": [
            "Accuracy on the testing set (RNN): 0.50175\n"
          ]
        }
      ]
    },
    {
      "cell_type": "code",
      "source": [],
      "metadata": {
        "id": "H022xr20G5mc"
      },
      "execution_count": null,
      "outputs": []
    }
  ],
  "metadata": {
    "colab": {
      "provenance": [],
      "authorship_tag": "ABX9TyOV10LAMpWCLb+Ly6+Ds3Y/",
      "include_colab_link": true
    },
    "kernelspec": {
      "display_name": "Python 3",
      "name": "python3"
    },
    "language_info": {
      "name": "python"
    }
  },
  "nbformat": 4,
  "nbformat_minor": 0
}